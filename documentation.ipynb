{
 "cells": [
  {
   "attachments": {},
   "cell_type": "markdown",
   "metadata": {},
   "source": [
    "## membuat dashboard visualisasi data penjualan menggunakan Streamlit, pandas, dan pyplot\n",
    "\n",
    "referensi belajar : https://www.youtube.com/watch?v=Sb0A9i6d320&list=PLHgX2IExbFovFg4DI0_b3EWyIGk-oGRzq \\\n",
    "dataset : https://github.com/Sven-Bo/streamlit-sales-dashboard/blob/main/supermarkt_sales.xlsx \\\n",
    "requirement to install :\n",
    "- python v.3+\n",
    "- streamlit\n",
    "- pandas\n",
    "- pyplot && pyplot-express"
   ]
  },
  {
   "attachments": {},
   "cell_type": "markdown",
   "metadata": {},
   "source": [
    "### Download dataset from source dan load dataset\n",
    "untuk membuat visualisasi interaktif menggunakan Streamlit, kita perlu menginstall library yang dibutuhkan seperti yang telah di sebutkan di atas. kemudian download dataset dari sumber yang sudah tertera di atas. Pada dataset diatas kita dapat menemukan data sebanyak 18*1003 (18 columns dan 1003 rows). untuk melihat datanya kita bisa menggunakan pandas. \\\n",
    "Jika menggunakan jupyter notebook kita bisa masukan printah ```import pandas as pd```, buat variable untuk memuat perintah ```pd.read_excel(Path file dataset)```. pada data set kita akan melihat dimana colom[0] kosong karena memiliki nilai ```NaN``` jadi kita tidak menggunakan kolom tersebut. tidak hanya itu jika kita lihat bagian header column, ia bertuliskan ```unamed``` hal ini terjadi karena kolom tersebut kosong. jika kolom kosong maka kita harus membuat perintah agar kita meload data yang dibutuhkan saja. pada dataset kita dapat melihat bahwa colum[0] berisi ```NaN``` dan row [0:2] ```NaN``` maka untuk mengabaikannya kita membuat kode seperti dibawah ini : \n",
    "````\n",
    "data_frame = pd.read_excel(\n",
    "    io = 'supermarkt_sales.xlsx',\n",
    "    engine = 'openpyxl',\n",
    "    sheet_name = 'Sales',\n",
    "    skiprows = 3,\n",
    "    usecols = 'B:R',\n",
    "    nrows = 1000,\n",
    ")\n",
    "data_frame\n",
    "````\n",
    "pada ```pd.read_excel()``` kita dapat menggunakan parameter yang disediakan fungsi tersebut. untuk melihat dokumentasinya silakan cek:  https://pandas.pydata.org/docs/reference/api/pandas.read_excel.html. pada ```io``` kita masukan objek yang ingin kita load. objek tersebut bisa berupa file xlsx, xlrd, dsb bisa dilihat pada dokumentasi diatas. kita meload file excel. ```enggine``` digunakan untuk mengidentifikasi file object yang bakal diload sehingga dapat mudah dieksekusi. \\\n",
    "openpyxl merupakan library untuk membaca dan menulis file excel [doc: https://openpyxl.readthedocs.io/en/stable/]. ```sheetname``` merujuk pada sheet yang ingin diload datanya. ```skiprows``` digunakan untuk melewati baris awal yang diinginkan. biasanya baris yang diabaikan adalah baris yang tidak memiliki value. pada kasus kita sebelumnya baris[0:2] memiliki nilai ```NaN```. oleh karena itu kita isi nilai 3 pada ```skiprows```, tujuannya agar 3 baris pertama dilewati. ```usecols``` digunakan untuk memilih kolom mana saja yang ingin kita gunakan. pada kasus kita tadi column[0] tidak memiliki value sehingga kita perlu mengabaikannya. ```nrows``` digunakan untuk memparshing baris yang ada didalam dataset. "
   ]
  },
  {
   "cell_type": "markdown",
   "metadata": {},
   "source": []
  }
 ],
 "metadata": {
  "kernelspec": {
   "display_name": "base",
   "language": "python",
   "name": "python3"
  },
  "language_info": {
   "name": "python",
   "version": "3.9.7"
  },
  "orig_nbformat": 4,
  "vscode": {
   "interpreter": {
    "hash": "c42d99d755d00efaf066b964ceed011a4027ae5af520c8ef8190b9acee3a6094"
   }
  }
 },
 "nbformat": 4,
 "nbformat_minor": 2
}
